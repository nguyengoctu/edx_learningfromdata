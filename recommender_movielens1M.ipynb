{
 "cells": [
  {
   "cell_type": "code",
   "execution_count": 29,
   "metadata": {
    "collapsed": true
   },
   "outputs": [],
   "source": [
    "import numpy as np\n",
    "import time\n",
    "k = 10 # number of factors\n",
    "learning_rate = 0.00005"
   ]
  },
  {
   "cell_type": "code",
   "execution_count": 22,
   "metadata": {
    "collapsed": false
   },
   "outputs": [],
   "source": [
    "# Load data\n",
    "# Load movies\n",
    "movies = {}\n",
    "# movies = []\n",
    "with open(\"ml-100k/u.item\") as f:\n",
    "    for line in f:\n",
    "        movies[int(line.split('|')[0])] = np.random.uniform(-1, 1, k)\n",
    "        movies[int(line.split('|')[0])].astype(np.float64)\n",
    "        # movies.append(int(line.split('::')[0]))\n",
    "\n",
    "# users = []\n",
    "users = {}\n",
    "with open(\"ml-100k/u.user\") as f:\n",
    "    for line in f:\n",
    "        users[int(line.split('|')[0])] = np.random.uniform(-1, 1, k)\n",
    "        users[int(line.split('|')[0])].astype(np.float64)\n",
    "\n",
    "ratings = []\n",
    "with open(\"ml-100k/u.data\") as f:\n",
    "    for line in f:\n",
    "        ratings.append(list(map(int, line.split('\\t')[:3])))\n",
    "ratings = np.array(ratings)"
   ]
  },
  {
   "cell_type": "code",
   "execution_count": 23,
   "metadata": {
    "collapsed": false
   },
   "outputs": [],
   "source": [
    "# Split data into train-test set\n",
    "test_size = 0.25\n",
    "np.random.shuffle(ratings)\n",
    "train_ratings = ratings[:int(ratings.shape[0] * (1 - test_size))]\n",
    "test_ratings = ratings[int(ratings.shape[0] * (1 - test_size)):]"
   ]
  },
  {
   "cell_type": "code",
   "execution_count": 24,
   "metadata": {
    "collapsed": false
   },
   "outputs": [
    {
     "data": {
      "text/plain": [
       "(75000, 3)"
      ]
     },
     "execution_count": 24,
     "metadata": {},
     "output_type": "execute_result"
    }
   ],
   "source": [
    "train_ratings.shape"
   ]
  },
  {
   "cell_type": "code",
   "execution_count": 25,
   "metadata": {
    "collapsed": false
   },
   "outputs": [
    {
     "data": {
      "text/plain": [
       "array([ 463, 1117,    1])"
      ]
     },
     "execution_count": 25,
     "metadata": {},
     "output_type": "execute_result"
    }
   ],
   "source": [
    "test_ratings[0]"
   ]
  },
  {
   "cell_type": "code",
   "execution_count": null,
   "metadata": {
    "collapsed": false
   },
   "outputs": [
    {
     "name": "stdout",
     "output_type": "stream",
     "text": [
      "epoch 0 complete.\n",
      "3.73456989551\n",
      "epoch 50 complete.\n",
      "2.54773300695\n"
     ]
    }
   ],
   "source": [
    "# SGD\n",
    "n = 10000\n",
    "for epoch in range(n):\n",
    "    index = np.random.permutation(train_ratings.shape[0])\n",
    "    for i in range(len(index)):\n",
    "        r = float(train_ratings[index[i]][2])\n",
    "        user = train_ratings[index[i]][0]\n",
    "        movie = train_ratings[index[i]][1]\n",
    "        user_temp = users[user]\n",
    "        movie_temp = movies[movie]\n",
    "        users[user] += 2 * learning_rate * (r - np.dot(user_temp, movie_temp)) * movie_temp\n",
    "        movies[movie] += 2 * learning_rate * (r - np.dot(user_temp, movie_temp)) * user_temp\n",
    "        \n",
    "    if epoch % 50 == 0:\n",
    "        print(\"epoch\",epoch,\"complete.\")\n",
    "        rmse = 0.\n",
    "        for i in range(test_ratings.shape[0]):\n",
    "            err = test_ratings[i][2] - np.dot(movies[test_ratings[i][1]], users[test_ratings[i][0]])\n",
    "            err *= err\n",
    "            rmse += err\n",
    "        print(np.sqrt(rmse / test_ratings.shape[0]))"
   ]
  },
  {
   "cell_type": "code",
   "execution_count": 27,
   "metadata": {
    "collapsed": false
   },
   "outputs": [
    {
     "name": "stdout",
     "output_type": "stream",
     "text": [
      "3.83605937068\n"
     ]
    }
   ],
   "source": [
    "rmse = 0.\n",
    "for i in range(test_ratings.shape[0]):\n",
    "    err = test_ratings[i][2] - np.dot(movies[test_ratings[i][1]], users[test_ratings[i][0]])\n",
    "    err *= err\n",
    "    rmse += err\n",
    "print(np.sqrt(rmse / test_ratings.shape[0]))"
   ]
  },
  {
   "cell_type": "code",
   "execution_count": null,
   "metadata": {
    "collapsed": true
   },
   "outputs": [],
   "source": []
  }
 ],
 "metadata": {
  "anaconda-cloud": {},
  "kernelspec": {
   "display_name": "Python [default]",
   "language": "python",
   "name": "python3"
  },
  "language_info": {
   "codemirror_mode": {
    "name": "ipython",
    "version": 3
   },
   "file_extension": ".py",
   "mimetype": "text/x-python",
   "name": "python",
   "nbconvert_exporter": "python",
   "pygments_lexer": "ipython3",
   "version": "3.5.2"
  }
 },
 "nbformat": 4,
 "nbformat_minor": 0
}
